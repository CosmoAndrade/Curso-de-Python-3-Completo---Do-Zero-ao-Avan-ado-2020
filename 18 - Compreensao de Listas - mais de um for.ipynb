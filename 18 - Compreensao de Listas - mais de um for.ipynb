{
 "cells": [
  {
   "cell_type": "markdown",
   "metadata": {},
   "source": [
    "### Compreensão de Listas - Mais de um for"
   ]
  },
  {
   "cell_type": "code",
   "execution_count": 11,
   "metadata": {},
   "outputs": [],
   "source": [
    "amigos_de_fred = ['josi','felipe','pedro','paulo']\n",
    "amigos_de_davi = ['manu','pedro','josi','danilo']"
   ]
  },
  {
   "cell_type": "code",
   "execution_count": 15,
   "metadata": {},
   "outputs": [
    {
     "data": {
      "text/plain": [
       "['josi', 'pedro']"
      ]
     },
     "execution_count": 15,
     "metadata": {},
     "output_type": "execute_result"
    }
   ],
   "source": [
    "# af ==> amigo de fred\n",
    "# ad ==> amigo de davi\n",
    "[ad for af in amigos_de_fred for ad in amigos_de_davi if af == ad]"
   ]
  },
  {
   "cell_type": "code",
   "execution_count": 20,
   "metadata": {},
   "outputs": [],
   "source": [
    "amigos_em_comum = [ad for af in amigos_de_fred \\\n",
    "                   for ad in amigos_de_davi if af == ad]"
   ]
  },
  {
   "cell_type": "code",
   "execution_count": 21,
   "metadata": {},
   "outputs": [
    {
     "data": {
      "text/plain": [
       "['josi', 'pedro']"
      ]
     },
     "execution_count": 21,
     "metadata": {},
     "output_type": "execute_result"
    }
   ],
   "source": [
    "amigos_em_comum"
   ]
  },
  {
   "cell_type": "code",
   "execution_count": 23,
   "metadata": {},
   "outputs": [
    {
     "data": {
      "text/plain": [
       "[('josi', 'manu'),\n",
       " ('josi', 'pedro'),\n",
       " ('josi', 'danilo'),\n",
       " ('felipe', 'manu'),\n",
       " ('felipe', 'pedro'),\n",
       " ('felipe', 'josi'),\n",
       " ('felipe', 'danilo'),\n",
       " ('pedro', 'manu'),\n",
       " ('pedro', 'josi'),\n",
       " ('pedro', 'danilo'),\n",
       " ('paulo', 'manu'),\n",
       " ('paulo', 'pedro'),\n",
       " ('paulo', 'josi'),\n",
       " ('paulo', 'danilo')]"
      ]
     },
     "execution_count": 23,
     "metadata": {},
     "output_type": "execute_result"
    }
   ],
   "source": [
    "[(af,ad) for af in amigos_de_fred for ad in amigos_de_davi if af != ad]"
   ]
  },
  {
   "cell_type": "code",
   "execution_count": 25,
   "metadata": {},
   "outputs": [],
   "source": [
    "nao_amigos = []\n",
    "for af in amigos_de_fred:\n",
    "    for ad in amigos_de_davi:\n",
    "        if af != ad:\n",
    "            nao_amigos.append((af,ad))\n",
    "            #print(af,ad)"
   ]
  },
  {
   "cell_type": "code",
   "execution_count": 26,
   "metadata": {},
   "outputs": [
    {
     "data": {
      "text/plain": [
       "[('josi', 'manu'),\n",
       " ('josi', 'pedro'),\n",
       " ('josi', 'danilo'),\n",
       " ('felipe', 'manu'),\n",
       " ('felipe', 'pedro'),\n",
       " ('felipe', 'josi'),\n",
       " ('felipe', 'danilo'),\n",
       " ('pedro', 'manu'),\n",
       " ('pedro', 'josi'),\n",
       " ('pedro', 'danilo'),\n",
       " ('paulo', 'manu'),\n",
       " ('paulo', 'pedro'),\n",
       " ('paulo', 'josi'),\n",
       " ('paulo', 'danilo')]"
      ]
     },
     "execution_count": 26,
     "metadata": {},
     "output_type": "execute_result"
    }
   ],
   "source": [
    "nao_amigos"
   ]
  },
  {
   "cell_type": "code",
   "execution_count": null,
   "metadata": {},
   "outputs": [],
   "source": []
  }
 ],
 "metadata": {
  "kernelspec": {
   "display_name": "Python 3",
   "language": "python",
   "name": "python3"
  },
  "language_info": {
   "codemirror_mode": {
    "name": "ipython",
    "version": 3
   },
   "file_extension": ".py",
   "mimetype": "text/x-python",
   "name": "python",
   "nbconvert_exporter": "python",
   "pygments_lexer": "ipython3",
   "version": "3.6.5"
  }
 },
 "nbformat": 4,
 "nbformat_minor": 2
}
