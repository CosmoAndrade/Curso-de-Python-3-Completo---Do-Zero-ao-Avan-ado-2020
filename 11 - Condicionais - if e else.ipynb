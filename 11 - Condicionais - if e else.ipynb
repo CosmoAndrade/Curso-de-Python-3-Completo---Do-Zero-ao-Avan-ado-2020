{
 "cells": [
  {
   "cell_type": "markdown",
   "metadata": {},
   "source": [
    "# Condicionais - if, else e elif"
   ]
  },
  {
   "cell_type": "code",
   "execution_count": null,
   "metadata": {},
   "outputs": [],
   "source": [
    "# if - se\n",
    "# else - senão\n",
    "# elif - senão se"
   ]
  },
  {
   "cell_type": "code",
   "execution_count": 7,
   "metadata": {},
   "outputs": [
    {
     "name": "stdout",
     "output_type": "stream",
     "text": [
      "continue\n"
     ]
    }
   ],
   "source": [
    "devo_continuar = True\n",
    "if devo_continuar == True:   \n",
    "    print('continue')"
   ]
  },
  {
   "cell_type": "code",
   "execution_count": 8,
   "metadata": {},
   "outputs": [
    {
     "name": "stdout",
     "output_type": "stream",
     "text": [
      "continue\n"
     ]
    }
   ],
   "source": [
    "if devo_continuar:   \n",
    "    print('continue')"
   ]
  },
  {
   "cell_type": "code",
   "execution_count": 9,
   "metadata": {},
   "outputs": [],
   "source": [
    "pessoas_conhecidas = ['João', 'Maria', 'José', 'Ana']"
   ]
  },
  {
   "cell_type": "code",
   "execution_count": 19,
   "metadata": {},
   "outputs": [
    {
     "name": "stdout",
     "output_type": "stream",
     "text": [
      "Entre com o nome da pessoa: João\n"
     ]
    }
   ],
   "source": [
    "pessoa = input('Entre com o nome da pessoa: ')"
   ]
  },
  {
   "cell_type": "code",
   "execution_count": 20,
   "metadata": {},
   "outputs": [
    {
     "data": {
      "text/plain": [
       "'João'"
      ]
     },
     "execution_count": 20,
     "metadata": {},
     "output_type": "execute_result"
    }
   ],
   "source": [
    "pessoa"
   ]
  },
  {
   "cell_type": "code",
   "execution_count": 16,
   "metadata": {},
   "outputs": [],
   "source": [
    "if pessoa in pessoas_conhecidas:\n",
    "    print('Você conhece essa pessoa')"
   ]
  },
  {
   "cell_type": "code",
   "execution_count": 17,
   "metadata": {},
   "outputs": [
    {
     "name": "stdout",
     "output_type": "stream",
     "text": [
      "Você não conhece essa pessoa\n"
     ]
    }
   ],
   "source": [
    "if pessoa not in pessoas_conhecidas:\n",
    "    print('Você não conhece essa pessoa')"
   ]
  },
  {
   "cell_type": "code",
   "execution_count": 21,
   "metadata": {},
   "outputs": [
    {
     "name": "stdout",
     "output_type": "stream",
     "text": [
      "Você conhece essa pessoa\n"
     ]
    }
   ],
   "source": [
    "if pessoa in pessoas_conhecidas:\n",
    "    print('Você conhece essa pessoa')\n",
    "else:\n",
    "    print('Você não conhece essa pessoa')"
   ]
  },
  {
   "cell_type": "markdown",
   "metadata": {},
   "source": [
    "Desenvolva um programa que recebe a temperatura e informa se a pessoa está com febre ou não:\n",
    "* Menor que 36° - Hipotermia\n",
    "* Entre 36° e 37,5° - Normal\n",
    "* Acima de 37,5° até 39,5° - Febre\n",
    "* Acima de 39,5° até 41° - Febre Alta\n",
    "* Acima de 41° - Hipertermia"
   ]
  },
  {
   "cell_type": "code",
   "execution_count": 29,
   "metadata": {},
   "outputs": [
    {
     "name": "stdout",
     "output_type": "stream",
     "text": [
      "Por favor digite a temperatura corporal: 37.9\n",
      "Febre\n"
     ]
    }
   ],
   "source": [
    "temperatura = float(input('Por favor digite a temperatura corporal: '))\n",
    "\n",
    "if temperatura < 36:\n",
    "    print('Hipotermia')\n",
    "elif (temperatura >=36) & (temperatura <=37.5):\n",
    "    print('Normal')\n",
    "elif (temperatura >37.5) & (temperatura <=39.5):\n",
    "    print('Febre')\n",
    "elif (temperatura >39.5) & (temperatura <=41):\n",
    "    print('Febre Alta')\n",
    "else:\n",
    "    print('Hipertermia')"
   ]
  },
  {
   "cell_type": "markdown",
   "metadata": {},
   "source": [
    "Desenvolva um programa que recebe a idade e informa se a pessoa pode votar ou não. Segundo a lei brasileira:\n",
    "* Quem tem menos de 16 anos não pode votar\n",
    "* Quem tem 16 ou 17 é opcional\n",
    "* Entre 18 e 69 é obrigatório\n",
    "* De 70 anos pra cima é opcional"
   ]
  },
  {
   "cell_type": "code",
   "execution_count": 39,
   "metadata": {},
   "outputs": [
    {
     "name": "stdout",
     "output_type": "stream",
     "text": [
      "Por favor, digite sua idade: 46\n",
      "O seu voto é obrigatório\n"
     ]
    }
   ],
   "source": [
    "idade = int(input('Por favor, digite sua idade: '))\n",
    "if idade < 16:\n",
    "    print('Você não pode votar')\n",
    "elif (idade==16) | (idade==17) | (idade >= 70):\n",
    "    print('O seu voto é opcional')\n",
    "else:\n",
    "    print('O seu voto é obrigatório')"
   ]
  },
  {
   "cell_type": "code",
   "execution_count": null,
   "metadata": {},
   "outputs": [],
   "source": []
  }
 ],
 "metadata": {
  "kernelspec": {
   "display_name": "Python 3",
   "language": "python",
   "name": "python3"
  },
  "language_info": {
   "codemirror_mode": {
    "name": "ipython",
    "version": 3
   },
   "file_extension": ".py",
   "mimetype": "text/x-python",
   "name": "python",
   "nbconvert_exporter": "python",
   "pygments_lexer": "ipython3",
   "version": "3.6.5"
  }
 },
 "nbformat": 4,
 "nbformat_minor": 2
}
