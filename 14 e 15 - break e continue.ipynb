{
 "cells": [
  {
   "cell_type": "markdown",
   "metadata": {},
   "source": [
    "# break e continue"
   ]
  },
  {
   "cell_type": "code",
   "execution_count": 74,
   "metadata": {},
   "outputs": [],
   "source": [
    "# par ou ímpar"
   ]
  },
  {
   "cell_type": "code",
   "execution_count": 80,
   "metadata": {},
   "outputs": [
    {
     "name": "stdout",
     "output_type": "stream",
     "text": [
      "0 é par\n",
      "1 é ímpar\n",
      "2 é par\n",
      "3 é ímpar\n",
      "4 é par\n",
      "5 é ímpar\n",
      "6 é par\n",
      "7 é ímpar\n",
      "8 é par\n",
      "9 é ímpar\n"
     ]
    }
   ],
   "source": [
    "for num in range(10):\n",
    "    if num % 2 == 0: # resto da divisão por 2 igual a 0\n",
    "        print(f'{num} é par')\n",
    "    else:\n",
    "        print('{} é ímpar'.format(num))\n",
    "        #print(num,'é ímpar')\n",
    "        #print(str(num) + ' é ímpar')\n",
    "        "
   ]
  },
  {
   "cell_type": "code",
   "execution_count": 85,
   "metadata": {},
   "outputs": [
    {
     "name": "stdout",
     "output_type": "stream",
     "text": [
      "0 é par\n",
      "1 é ímpar\n",
      "2 é par\n",
      "3 é ímpar\n",
      "4 é par\n",
      "5 é ímpar\n",
      "6 é par\n",
      "7 é ímpar\n",
      "8 é par\n",
      "9 é ímpar\n"
     ]
    }
   ],
   "source": [
    "for num in range(10):\n",
    "    if num % 2 == 0: # resto da divisão por 2 igual a 0\n",
    "        print(f'{num} é par')\n",
    "        continue # passa para o próximo\n",
    "    print(f'{num} é ímpar')"
   ]
  },
  {
   "cell_type": "markdown",
   "metadata": {},
   "source": [
    "**Números primos** são os números naturais que têm apenas dois divisores diferentes: o 1 e ele mesmo"
   ]
  },
  {
   "cell_type": "code",
   "execution_count": 90,
   "metadata": {},
   "outputs": [
    {
     "name": "stdout",
     "output_type": "stream",
     "text": [
      "2 é primo\n",
      "3 é primo\n",
      "4 é divisível por 2\n",
      "5 é primo\n",
      "6 é divisível por 2\n",
      "7 é primo\n",
      "8 é divisível por 2\n",
      "9 é divisível por 3\n"
     ]
    }
   ],
   "source": [
    "for numero in range(2,10):\n",
    "    for divisor in range(2, numero):\n",
    "        if numero % divisor == 0:\n",
    "            print(f'{numero} é divisível por {divisor}')\n",
    "            break\n",
    "    else:\n",
    "        print(numero, 'é primo')"
   ]
  },
  {
   "cell_type": "code",
   "execution_count": 89,
   "metadata": {},
   "outputs": [
    {
     "name": "stdout",
     "output_type": "stream",
     "text": [
      "2\n",
      "divisor 2\n",
      "3\n",
      "divisor 2\n",
      "divisor 3\n",
      "4\n",
      "divisor 2\n",
      "divisor 3\n",
      "divisor 4\n",
      "5\n",
      "divisor 2\n",
      "divisor 3\n",
      "divisor 4\n",
      "divisor 5\n",
      "6\n",
      "divisor 2\n",
      "divisor 3\n",
      "divisor 4\n",
      "divisor 5\n",
      "divisor 6\n",
      "7\n",
      "divisor 2\n",
      "divisor 3\n",
      "divisor 4\n",
      "divisor 5\n",
      "divisor 6\n",
      "divisor 7\n",
      "8\n",
      "divisor 2\n",
      "divisor 3\n",
      "divisor 4\n",
      "divisor 5\n",
      "divisor 6\n",
      "divisor 7\n",
      "divisor 8\n",
      "9\n"
     ]
    }
   ],
   "source": [
    "for numero in range(2,10):\n",
    "    for divisor in range(2, numero):\n",
    "        print('divisor',divisor)\n",
    "    print(numero)\n",
    "    "
   ]
  },
  {
   "cell_type": "code",
   "execution_count": null,
   "metadata": {},
   "outputs": [],
   "source": []
  }
 ],
 "metadata": {
  "kernelspec": {
   "display_name": "Python 3",
   "language": "python",
   "name": "python3"
  },
  "language_info": {
   "codemirror_mode": {
    "name": "ipython",
    "version": 3
   },
   "file_extension": ".py",
   "mimetype": "text/x-python",
   "name": "python",
   "nbconvert_exporter": "python",
   "pygments_lexer": "ipython3",
   "version": "3.6.5"
  }
 },
 "nbformat": 4,
 "nbformat_minor": 2
}
