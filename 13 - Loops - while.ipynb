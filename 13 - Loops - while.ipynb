{
 "cells": [
  {
   "cell_type": "markdown",
   "metadata": {},
   "source": [
    "# Loops - while"
   ]
  },
  {
   "cell_type": "code",
   "execution_count": 69,
   "metadata": {},
   "outputs": [
    {
     "name": "stdout",
     "output_type": "stream",
     "text": [
      "1\n",
      "3\n",
      "5\n",
      "7\n",
      "9\n"
     ]
    }
   ],
   "source": [
    "# enquanto\n",
    "num = 1\n",
    "while num <= 9:\n",
    "    print(num)\n",
    "    #num = num + 2\n",
    "    num += 2"
   ]
  },
  {
   "cell_type": "code",
   "execution_count": 70,
   "metadata": {},
   "outputs": [],
   "source": [
    "usuario_quiser = True"
   ]
  },
  {
   "cell_type": "code",
   "execution_count": 71,
   "metadata": {},
   "outputs": [
    {
     "name": "stdout",
     "output_type": "stream",
     "text": [
      "Quer continuar? (s/n)s\n",
      "Quer continuar? (s/n)s\n",
      "Quer continuar? (s/n)odasokdas\n",
      "Quer continuar? (s/n)dhasd\n",
      "Quer continuar? (s/n)dj\n",
      "Quer continuar? (s/n)fomsad\n",
      "Quer continuar? (s/n)n\n"
     ]
    }
   ],
   "source": [
    "while usuario_quiser:\n",
    "    usuario_input = input(\"Quer continuar? (s/n)\")\n",
    "    if usuario_input == 'n':\n",
    "        usuario_quiser = False"
   ]
  },
  {
   "cell_type": "code",
   "execution_count": null,
   "metadata": {},
   "outputs": [],
   "source": []
  }
 ],
 "metadata": {
  "kernelspec": {
   "display_name": "Python 3",
   "language": "python",
   "name": "python3"
  },
  "language_info": {
   "codemirror_mode": {
    "name": "ipython",
    "version": 3
   },
   "file_extension": ".py",
   "mimetype": "text/x-python",
   "name": "python",
   "nbconvert_exporter": "python",
   "pygments_lexer": "ipython3",
   "version": "3.6.5"
  }
 },
 "nbformat": 4,
 "nbformat_minor": 2
}
