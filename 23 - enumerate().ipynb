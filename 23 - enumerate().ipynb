{
 "cells": [
  {
   "cell_type": "markdown",
   "metadata": {},
   "source": [
    "# Função enumerate()"
   ]
  },
  {
   "cell_type": "code",
   "execution_count": 12,
   "metadata": {},
   "outputs": [],
   "source": [
    "alfabeto = list('abcdefg')"
   ]
  },
  {
   "cell_type": "code",
   "execution_count": 13,
   "metadata": {},
   "outputs": [
    {
     "data": {
      "text/plain": [
       "['a', 'b', 'c', 'd', 'e', 'f', 'g']"
      ]
     },
     "execution_count": 13,
     "metadata": {},
     "output_type": "execute_result"
    }
   ],
   "source": [
    "alfabeto"
   ]
  },
  {
   "cell_type": "code",
   "execution_count": 17,
   "metadata": {},
   "outputs": [
    {
     "name": "stdout",
     "output_type": "stream",
     "text": [
      "0 ---> a\n",
      "1 ---> b\n",
      "2 ---> c\n",
      "3 ---> d\n",
      "4 ---> e\n",
      "5 ---> f\n",
      "6 ---> g\n"
     ]
    }
   ],
   "source": [
    "idx = 0\n",
    "for letra in alfabeto:\n",
    "    print(f'{idx} ---> {letra}')\n",
    "    idx += 1"
   ]
  },
  {
   "cell_type": "code",
   "execution_count": 21,
   "metadata": {},
   "outputs": [
    {
     "name": "stdout",
     "output_type": "stream",
     "text": [
      "0 ---> a\n",
      "1 ---> b\n",
      "2 ---> c\n",
      "3 ---> d\n",
      "4 ---> e\n",
      "5 ---> f\n",
      "6 ---> g\n"
     ]
    }
   ],
   "source": [
    "for i, letra in enumerate(alfabeto,0):\n",
    "    print(f'{i} ---> {letra}')"
   ]
  },
  {
   "cell_type": "code",
   "execution_count": 25,
   "metadata": {},
   "outputs": [
    {
     "data": {
      "text/plain": [
       "6"
      ]
     },
     "execution_count": 25,
     "metadata": {},
     "output_type": "execute_result"
    }
   ],
   "source": [
    "alfabeto.index('g')"
   ]
  },
  {
   "cell_type": "code",
   "execution_count": 31,
   "metadata": {},
   "outputs": [],
   "source": [
    "def encontra_idx(lista, elemento):\n",
    "    for idx, el in enumerate(lista):\n",
    "        if el == elemento:\n",
    "            return idx\n",
    "    return print(f\"O elemento '{elemento}' não está lista!\")"
   ]
  },
  {
   "cell_type": "code",
   "execution_count": 33,
   "metadata": {},
   "outputs": [
    {
     "name": "stdout",
     "output_type": "stream",
     "text": [
      "O elemento 'p' não está lista!\n"
     ]
    }
   ],
   "source": [
    "encontra_idx(alfabeto, 'p')"
   ]
  },
  {
   "cell_type": "code",
   "execution_count": null,
   "metadata": {},
   "outputs": [],
   "source": []
  }
 ],
 "metadata": {
  "kernelspec": {
   "display_name": "Python 3",
   "language": "python",
   "name": "python3"
  },
  "language_info": {
   "codemirror_mode": {
    "name": "ipython",
    "version": 3
   },
   "file_extension": ".py",
   "mimetype": "text/x-python",
   "name": "python",
   "nbconvert_exporter": "python",
   "pygments_lexer": "ipython3",
   "version": "3.6.5"
  }
 },
 "nbformat": 4,
 "nbformat_minor": 2
}
